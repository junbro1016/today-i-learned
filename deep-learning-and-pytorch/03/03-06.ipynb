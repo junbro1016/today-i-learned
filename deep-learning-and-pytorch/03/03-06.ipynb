{
 "cells": [
  {
   "cell_type": "code",
   "execution_count": 3,
   "metadata": {},
   "outputs": [],
   "source": [
    "import numpy as np\n",
    "import torch\n",
    "from torch import nn\n",
    "import matplotlib.pyplot as plt\n",
    "import os\n",
    "import warnings\n",
    "\n",
    "warnings.filterwarnings('ignore')"
   ]
  },
  {
   "cell_type": "code",
   "execution_count": 5,
   "metadata": {},
   "outputs": [],
   "source": [
    "def convert_int2onehot(gt_idx_list, n_class=10):\n",
    "    batch_size=len(gt_idx_list)\n",
    "    gt_onehot = torch.zeros((batch_size, n_class))\n",
    "    gt_onehot[torch.arange(batch_size), gt_idx_list] = 1\n",
    "    return gt_onehot"
   ]
  },
  {
   "cell_type": "code",
   "execution_count": 45,
   "metadata": {},
   "outputs": [
    {
     "data": {
      "text/plain": [
       "tensor([[0., 1., 0., 0., 0.],\n",
       "        [0., 0., 1., 0., 0.],\n",
       "        [0., 0., 0., 1., 0.]])"
      ]
     },
     "execution_count": 45,
     "metadata": {},
     "output_type": "execute_result"
    }
   ],
   "source": [
    "convert_int2onehot([1,2,3], 5)"
   ]
  },
  {
   "cell_type": "code",
   "execution_count": 47,
   "metadata": {},
   "outputs": [
    {
     "data": {
      "text/plain": [
       "tensor([[0., 1., 1., 0., 0., 0., 0., 0., 0., 0.],\n",
       "        [0., 1., 1., 0., 0., 0., 0., 0., 0., 0.]])"
      ]
     },
     "execution_count": 47,
     "metadata": {},
     "output_type": "execute_result"
    }
   ],
   "source": [
    "# Note - broadcasting\n",
    "convert_int2onehot([[1],[2]], 10) \n",
    "# gt_onehot[[0,1], [[1],[2]]] is broadcasted to gt_onehot[[0,1],[[1,1],[2,2]]]"
   ]
  },
  {
   "cell_type": "markdown",
   "metadata": {},
   "source": [
    "# Regression Loss"
   ]
  },
  {
   "cell_type": "markdown",
   "metadata": {},
   "source": [
    "## MSE Loss"
   ]
  },
  {
   "cell_type": "code",
   "execution_count": 48,
   "metadata": {},
   "outputs": [],
   "source": [
    "def generate_regression(batch_size=16):\n",
    "    return torch.rand(batch_size), torch.rand(batch_size)"
   ]
  },
  {
   "cell_type": "code",
   "execution_count": 49,
   "metadata": {},
   "outputs": [
    {
     "name": "stdout",
     "output_type": "stream",
     "text": [
      "predicted.shape == torch.Size([16]) ground_truth == torch.Size([16])\n"
     ]
    }
   ],
   "source": [
    "predicted, gt = generate_regression()\n",
    "print('predicted.shape ==', predicted.shape, 'ground_truth ==', gt.shape)"
   ]
  },
  {
   "cell_type": "code",
   "execution_count": 50,
   "metadata": {},
   "outputs": [
    {
     "data": {
      "text/plain": [
       "tensor(0.1721)"
      ]
     },
     "execution_count": 50,
     "metadata": {},
     "output_type": "execute_result"
    }
   ],
   "source": [
    "loss = nn.MSELoss(reduction = 'mean')\n",
    "loss(predicted, gt) # return scalar"
   ]
  },
  {
   "cell_type": "code",
   "execution_count": 51,
   "metadata": {},
   "outputs": [
    {
     "data": {
      "text/plain": [
       "tensor([6.1403e-03, 9.7461e-05, 4.2878e-01, 1.8997e-02, 4.7067e-01, 2.2248e-01,\n",
       "        5.0675e-01, 1.2691e-01, 3.3142e-02, 1.2032e-01, 1.4247e-02, 5.1327e-01,\n",
       "        6.2677e-03, 1.0802e-01, 2.8360e-02, 1.4861e-01])"
      ]
     },
     "execution_count": 51,
     "metadata": {},
     "output_type": "execute_result"
    }
   ],
   "source": [
    "loss = nn.MSELoss(reduction = 'none')\n",
    "loss(predicted, gt) # vector with 16 (batch size) elements"
   ]
  },
  {
   "cell_type": "code",
   "execution_count": 52,
   "metadata": {},
   "outputs": [
    {
     "data": {
      "text/plain": [
       "tensor(0.1721)"
      ]
     },
     "execution_count": 52,
     "metadata": {},
     "output_type": "execute_result"
    }
   ],
   "source": [
    "torch.mean(loss(predicted, gt)) # same with the loss function with reduction = 'mean'"
   ]
  },
  {
   "cell_type": "markdown",
   "metadata": {},
   "source": [
    "## MAE Loss"
   ]
  },
  {
   "cell_type": "code",
   "execution_count": 53,
   "metadata": {},
   "outputs": [
    {
     "data": {
      "text/plain": [
       "tensor(0.3396)"
      ]
     },
     "execution_count": 53,
     "metadata": {},
     "output_type": "execute_result"
    }
   ],
   "source": [
    "loss = nn.L1Loss(reduction='mean')\n",
    "loss(predicted, gt)"
   ]
  },
  {
   "cell_type": "markdown",
   "metadata": {},
   "source": [
    "## Huber Loss"
   ]
  },
  {
   "cell_type": "code",
   "execution_count": 54,
   "metadata": {},
   "outputs": [
    {
     "data": {
      "text/plain": [
       "tensor(0.0860)"
      ]
     },
     "execution_count": 54,
     "metadata": {},
     "output_type": "execute_result"
    }
   ],
   "source": [
    "loss = nn.HuberLoss(reduction='mean')\n",
    "loss(predicted, gt)"
   ]
  },
  {
   "cell_type": "code",
   "execution_count": 58,
   "metadata": {},
   "outputs": [],
   "source": [
    "N=100\n",
    "y_pred = np.linspace(-3, 3, N)\n",
    "y_pred = torch.Tensor(y_pred)\n",
    "y_true = torch.zeros(N)\n",
    "\n",
    "l1_loss_fn = nn.L1Loss(reduction=\"none\")\n",
    "l1_list = l1_loss_fn(y_pred, y_true)\n",
    "\n",
    "mse_loss_fn = nn.MSELoss(reduction=\"none\")\n",
    "mse_list = mse_loss_fn(y_pred, y_true)\n",
    "\n",
    "huber_loss_fn = nn.HuberLoss(reduction=\"none\")\n",
    "huber_list = huber_loss_fn(y_pred, y_true)\n"
   ]
  },
  {
   "cell_type": "code",
   "execution_count": 60,
   "metadata": {},
   "outputs": [
    {
     "data": {
      "image/png": "[encoded data removed]",
      "text/plain": [
       "<Figure size 640x480 with 1 Axes>"
      ]
     },
     "metadata": {},
     "output_type": "display_data"
    }
   ],
   "source": [
    "plt.figure()\n",
    "plt.plot(y_pred, l1_list.numpy(), label='L1 (MAE)')\n",
    "plt.plot(y_pred, mse_list.numpy(), label='L2 (MSE)')\n",
    "plt.plot(y_pred, huber_list.numpy(), label='Huber')\n",
    "plt.legend()\n",
    "plt.xlabel(r\"Predicted value $\\hat{Y}$\")\n",
    "plt.ylabel('Loss')\n",
    "plt.show()"
   ]
  },
  {
   "cell_type": "markdown",
   "metadata": {},
   "source": [
    "From above, we can figure out that huber loss function is similar with L2 function when error is small. But when if error is large, huber loss is similar with L1 function. Hence, huber loss enhances the model's training speed when error is small, and robust to outliers (or anomalies) when error is quite large. "
   ]
  },
  {
   "cell_type": "markdown",
   "metadata": {},
   "source": [
    "# Classification Loss"
   ]
  },
  {
   "cell_type": "code",
   "execution_count": 61,
   "metadata": {},
   "outputs": [],
   "source": [
    "def generate_class_int(batch_size=16, n_class=10):\n",
    "    pred = torch.nn.Softmax()(torch.rand(batch_size, n_class)) # pred shape: (batch_size, n_class)\n",
    "    gt = torch.argmax(torch.rand(batch_size, n_class), dim=1) # gt shape: (batch_size, )\n",
    "    return pred, gt"
   ]
  },
  {
   "cell_type": "code",
   "execution_count": 92,
   "metadata": {},
   "outputs": [],
   "source": [
    "def generate_class_onehot(batch_size=16, n_class=10):\n",
    "    pred = torch.nn.Softmax()(torch.rand(batch_size, n_class))\n",
    "    gt = torch.zeros(batch_size, n_class)\n",
    "    gt[torch.arange(batch_size), torch.argmax(torch.rand(batch_size, n_class), dim=1)] = 1.\n",
    "    return pred, gt"
   ]
  },
  {
   "cell_type": "code",
   "execution_count": 93,
   "metadata": {},
   "outputs": [],
   "source": [
    "predicted, gt = generate_class_int()"
   ]
  },
  {
   "cell_type": "code",
   "execution_count": 94,
   "metadata": {},
   "outputs": [
    {
     "data": {
      "text/plain": [
       "torch.Size([16, 10])"
      ]
     },
     "execution_count": 94,
     "metadata": {},
     "output_type": "execute_result"
    }
   ],
   "source": [
    "predicted.shape"
   ]
  },
  {
   "cell_type": "code",
   "execution_count": 95,
   "metadata": {},
   "outputs": [
    {
     "data": {
      "text/plain": [
       "torch.Size([16])"
      ]
     },
     "execution_count": 95,
     "metadata": {},
     "output_type": "execute_result"
    }
   ],
   "source": [
    "gt.shape"
   ]
  },
  {
   "cell_type": "markdown",
   "metadata": {},
   "source": [
    "## Cross Entropy Loss\n",
    "- when using `nn.CrossEntropyLoss`, input shape must be smaller than target shape by one dimension. For example, input.shape == (batch_size, num_class) and target.shape == (batch_size,)\n",
    "- target must be long type integer."
   ]
  },
  {
   "cell_type": "code",
   "execution_count": 125,
   "metadata": {},
   "outputs": [
    {
     "data": {
      "text/plain": [
       "tensor(2.3025)"
      ]
     },
     "execution_count": 125,
     "metadata": {},
     "output_type": "execute_result"
    }
   ],
   "source": [
    "predicted, gt = generate_class_int()\n",
    "loss = nn.CrossEntropyLoss(reduction='mean')\n",
    "loss(predicted, gt)"
   ]
  },
  {
   "cell_type": "code",
   "execution_count": 126,
   "metadata": {},
   "outputs": [
    {
     "data": {
      "text/plain": [
       "tensor([2.2691, 2.3346, 2.3175, 2.2925, 2.2977, 2.2652, 2.2811, 2.3215, 2.3307,\n",
       "        2.2873, 2.2816, 2.2951, 2.3142, 2.3319, 2.3004, 2.3192])"
      ]
     },
     "execution_count": 126,
     "metadata": {},
     "output_type": "execute_result"
    }
   ],
   "source": [
    "loss = nn.CrossEntropyLoss(reduction='none')\n",
    "loss(predicted, gt)"
   ]
  },
  {
   "cell_type": "markdown",
   "metadata": {},
   "source": [
    "- when using `nn.BCELoss`, input shape and target shape must be equal.\n",
    "- input must be normalized into 0 ~ 1. \n",
    "- target value must be also 0 ~ 1 and float type."
   ]
  },
  {
   "cell_type": "code",
   "execution_count": 139,
   "metadata": {},
   "outputs": [
    {
     "data": {
      "text/plain": [
       "tensor(0.3365)"
      ]
     },
     "execution_count": 139,
     "metadata": {},
     "output_type": "execute_result"
    }
   ],
   "source": [
    "predicted, gt = generate_class_onehot()\n",
    "loss = nn.BCELoss(reduction='mean')\n",
    "loss(predicted, gt)"
   ]
  },
  {
   "cell_type": "markdown",
   "metadata": {},
   "source": [
    "- `nn.BCEWithLogitsLoss` is Sigmoid layer + nn.BCELoss\n",
    "- if we forward pass Sigmoid and BCELoss separately, there may be a numerical instability\n",
    "- `nn.BCEWithLogitsLoss` is numerically stable\n",
    "- Hence, we should skip sigmoid layer when using `nn.BCEWithLogitsLoss`"
   ]
  },
  {
   "cell_type": "code",
   "execution_count": 140,
   "metadata": {},
   "outputs": [],
   "source": [
    "predicted = 10 * predicted"
   ]
  },
  {
   "cell_type": "code",
   "execution_count": 141,
   "metadata": {},
   "outputs": [
    {
     "data": {
      "text/plain": [
       "tensor(1.2283)"
      ]
     },
     "execution_count": 141,
     "metadata": {},
     "output_type": "execute_result"
    }
   ],
   "source": [
    "loss = nn.BCEWithLogitsLoss(reduction = 'mean')\n",
    "loss(predicted, gt)"
   ]
  },
  {
   "cell_type": "code",
   "execution_count": 142,
   "metadata": {},
   "outputs": [
    {
     "data": {
      "text/plain": [
       "tensor(1.2283)"
      ]
     },
     "execution_count": 142,
     "metadata": {},
     "output_type": "execute_result"
    }
   ],
   "source": [
    "loss = nn.BCELoss(reduction=\"mean\")\n",
    "loss(torch.nn.Sigmoid()(predicted), gt)"
   ]
  },
  {
   "cell_type": "markdown",
   "metadata": {},
   "source": [
    "## L1 Loss"
   ]
  },
  {
   "cell_type": "code",
   "execution_count": 143,
   "metadata": {},
   "outputs": [
    {
     "data": {
      "text/plain": [
       "tensor(0.1789)"
      ]
     },
     "execution_count": 143,
     "metadata": {},
     "output_type": "execute_result"
    }
   ],
   "source": [
    "predicted, gt = generate_class_onehot()\n",
    "loss = nn.L1Loss(reduction='mean')\n",
    "loss(predicted, gt)"
   ]
  },
  {
   "cell_type": "markdown",
   "metadata": {},
   "source": [
    "## KL Divergence Loss"
   ]
  },
  {
   "cell_type": "code",
   "execution_count": 144,
   "metadata": {},
   "outputs": [
    {
     "data": {
      "text/plain": [
       "tensor(-0.0097)"
      ]
     },
     "execution_count": 144,
     "metadata": {},
     "output_type": "execute_result"
    }
   ],
   "source": [
    "predicted, gt = generate_class_onehot()\n",
    "loss = nn.KLDivLoss(reduction='mean')\n",
    "loss(predicted, gt)"
   ]
  }
 ],
 "metadata": {
  "kernelspec": {
   "display_name": "py311",
   "language": "python",
   "name": "python3"
  },
  "language_info": {
   "codemirror_mode": {
    "name": "ipython",
    "version": 3
   },
   "file_extension": ".py",
   "mimetype": "text/x-python",
   "name": "python",
   "nbconvert_exporter": "python",
   "pygments_lexer": "ipython3",
   "version": "3.11.9"
  }
 },
 "nbformat": 4,
 "nbformat_minor": 2
}
